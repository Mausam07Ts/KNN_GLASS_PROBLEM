{
  "nbformat": 4,
  "nbformat_minor": 0,
  "metadata": {
    "colab": {
      "name": "KNN(GLASS_PRBLM).ipynb",
      "provenance": [],
      "collapsed_sections": []
    },
    "kernelspec": {
      "name": "python3",
      "display_name": "Python 3"
    },
    "language_info": {
      "name": "python"
    }
  },
  "cells": [
    {
      "cell_type": "code",
      "metadata": {
        "id": "Sr4eIqcF9kNA"
      },
      "source": [
        "# KNN Classification\n",
        "from pandas import read_csv\n",
        "import pandas as pd\n",
        "import numpy as np\n",
        "from sklearn.model_selection import KFold\n",
        "from sklearn.model_selection import cross_val_score\n",
        "from sklearn.neighbors import KNeighborsClassifier\n",
        "import seaborn as sns"
      ],
      "execution_count": 19,
      "outputs": []
    },
    {
      "cell_type": "code",
      "metadata": {
        "id": "tbx6jBPN-1ij"
      },
      "source": [
        "gls = pd.read_csv(\"glass.csv\")"
      ],
      "execution_count": 3,
      "outputs": []
    },
    {
      "cell_type": "code",
      "metadata": {
        "colab": {
          "base_uri": "https://localhost:8080/",
          "height": 419
        },
        "id": "gPUFkpJY_A5f",
        "outputId": "327fdcbc-3848-4649-af36-6930794eb3b6"
      },
      "source": [
        "gls# Here we have to classify according to type so the target variable is Type"
      ],
      "execution_count": 4,
      "outputs": [
        {
          "output_type": "execute_result",
          "data": {
            "text/html": [
              "<div>\n",
              "<style scoped>\n",
              "    .dataframe tbody tr th:only-of-type {\n",
              "        vertical-align: middle;\n",
              "    }\n",
              "\n",
              "    .dataframe tbody tr th {\n",
              "        vertical-align: top;\n",
              "    }\n",
              "\n",
              "    .dataframe thead th {\n",
              "        text-align: right;\n",
              "    }\n",
              "</style>\n",
              "<table border=\"1\" class=\"dataframe\">\n",
              "  <thead>\n",
              "    <tr style=\"text-align: right;\">\n",
              "      <th></th>\n",
              "      <th>RI</th>\n",
              "      <th>Na</th>\n",
              "      <th>Mg</th>\n",
              "      <th>Al</th>\n",
              "      <th>Si</th>\n",
              "      <th>K</th>\n",
              "      <th>Ca</th>\n",
              "      <th>Ba</th>\n",
              "      <th>Fe</th>\n",
              "      <th>Type</th>\n",
              "    </tr>\n",
              "  </thead>\n",
              "  <tbody>\n",
              "    <tr>\n",
              "      <th>0</th>\n",
              "      <td>1.52101</td>\n",
              "      <td>13.64</td>\n",
              "      <td>4.49</td>\n",
              "      <td>1.10</td>\n",
              "      <td>71.78</td>\n",
              "      <td>0.06</td>\n",
              "      <td>8.75</td>\n",
              "      <td>0.00</td>\n",
              "      <td>0.0</td>\n",
              "      <td>1</td>\n",
              "    </tr>\n",
              "    <tr>\n",
              "      <th>1</th>\n",
              "      <td>1.51761</td>\n",
              "      <td>13.89</td>\n",
              "      <td>3.60</td>\n",
              "      <td>1.36</td>\n",
              "      <td>72.73</td>\n",
              "      <td>0.48</td>\n",
              "      <td>7.83</td>\n",
              "      <td>0.00</td>\n",
              "      <td>0.0</td>\n",
              "      <td>1</td>\n",
              "    </tr>\n",
              "    <tr>\n",
              "      <th>2</th>\n",
              "      <td>1.51618</td>\n",
              "      <td>13.53</td>\n",
              "      <td>3.55</td>\n",
              "      <td>1.54</td>\n",
              "      <td>72.99</td>\n",
              "      <td>0.39</td>\n",
              "      <td>7.78</td>\n",
              "      <td>0.00</td>\n",
              "      <td>0.0</td>\n",
              "      <td>1</td>\n",
              "    </tr>\n",
              "    <tr>\n",
              "      <th>3</th>\n",
              "      <td>1.51766</td>\n",
              "      <td>13.21</td>\n",
              "      <td>3.69</td>\n",
              "      <td>1.29</td>\n",
              "      <td>72.61</td>\n",
              "      <td>0.57</td>\n",
              "      <td>8.22</td>\n",
              "      <td>0.00</td>\n",
              "      <td>0.0</td>\n",
              "      <td>1</td>\n",
              "    </tr>\n",
              "    <tr>\n",
              "      <th>4</th>\n",
              "      <td>1.51742</td>\n",
              "      <td>13.27</td>\n",
              "      <td>3.62</td>\n",
              "      <td>1.24</td>\n",
              "      <td>73.08</td>\n",
              "      <td>0.55</td>\n",
              "      <td>8.07</td>\n",
              "      <td>0.00</td>\n",
              "      <td>0.0</td>\n",
              "      <td>1</td>\n",
              "    </tr>\n",
              "    <tr>\n",
              "      <th>...</th>\n",
              "      <td>...</td>\n",
              "      <td>...</td>\n",
              "      <td>...</td>\n",
              "      <td>...</td>\n",
              "      <td>...</td>\n",
              "      <td>...</td>\n",
              "      <td>...</td>\n",
              "      <td>...</td>\n",
              "      <td>...</td>\n",
              "      <td>...</td>\n",
              "    </tr>\n",
              "    <tr>\n",
              "      <th>209</th>\n",
              "      <td>1.51623</td>\n",
              "      <td>14.14</td>\n",
              "      <td>0.00</td>\n",
              "      <td>2.88</td>\n",
              "      <td>72.61</td>\n",
              "      <td>0.08</td>\n",
              "      <td>9.18</td>\n",
              "      <td>1.06</td>\n",
              "      <td>0.0</td>\n",
              "      <td>7</td>\n",
              "    </tr>\n",
              "    <tr>\n",
              "      <th>210</th>\n",
              "      <td>1.51685</td>\n",
              "      <td>14.92</td>\n",
              "      <td>0.00</td>\n",
              "      <td>1.99</td>\n",
              "      <td>73.06</td>\n",
              "      <td>0.00</td>\n",
              "      <td>8.40</td>\n",
              "      <td>1.59</td>\n",
              "      <td>0.0</td>\n",
              "      <td>7</td>\n",
              "    </tr>\n",
              "    <tr>\n",
              "      <th>211</th>\n",
              "      <td>1.52065</td>\n",
              "      <td>14.36</td>\n",
              "      <td>0.00</td>\n",
              "      <td>2.02</td>\n",
              "      <td>73.42</td>\n",
              "      <td>0.00</td>\n",
              "      <td>8.44</td>\n",
              "      <td>1.64</td>\n",
              "      <td>0.0</td>\n",
              "      <td>7</td>\n",
              "    </tr>\n",
              "    <tr>\n",
              "      <th>212</th>\n",
              "      <td>1.51651</td>\n",
              "      <td>14.38</td>\n",
              "      <td>0.00</td>\n",
              "      <td>1.94</td>\n",
              "      <td>73.61</td>\n",
              "      <td>0.00</td>\n",
              "      <td>8.48</td>\n",
              "      <td>1.57</td>\n",
              "      <td>0.0</td>\n",
              "      <td>7</td>\n",
              "    </tr>\n",
              "    <tr>\n",
              "      <th>213</th>\n",
              "      <td>1.51711</td>\n",
              "      <td>14.23</td>\n",
              "      <td>0.00</td>\n",
              "      <td>2.08</td>\n",
              "      <td>73.36</td>\n",
              "      <td>0.00</td>\n",
              "      <td>8.62</td>\n",
              "      <td>1.67</td>\n",
              "      <td>0.0</td>\n",
              "      <td>7</td>\n",
              "    </tr>\n",
              "  </tbody>\n",
              "</table>\n",
              "<p>214 rows × 10 columns</p>\n",
              "</div>"
            ],
            "text/plain": [
              "          RI     Na    Mg    Al     Si     K    Ca    Ba   Fe  Type\n",
              "0    1.52101  13.64  4.49  1.10  71.78  0.06  8.75  0.00  0.0     1\n",
              "1    1.51761  13.89  3.60  1.36  72.73  0.48  7.83  0.00  0.0     1\n",
              "2    1.51618  13.53  3.55  1.54  72.99  0.39  7.78  0.00  0.0     1\n",
              "3    1.51766  13.21  3.69  1.29  72.61  0.57  8.22  0.00  0.0     1\n",
              "4    1.51742  13.27  3.62  1.24  73.08  0.55  8.07  0.00  0.0     1\n",
              "..       ...    ...   ...   ...    ...   ...   ...   ...  ...   ...\n",
              "209  1.51623  14.14  0.00  2.88  72.61  0.08  9.18  1.06  0.0     7\n",
              "210  1.51685  14.92  0.00  1.99  73.06  0.00  8.40  1.59  0.0     7\n",
              "211  1.52065  14.36  0.00  2.02  73.42  0.00  8.44  1.64  0.0     7\n",
              "212  1.51651  14.38  0.00  1.94  73.61  0.00  8.48  1.57  0.0     7\n",
              "213  1.51711  14.23  0.00  2.08  73.36  0.00  8.62  1.67  0.0     7\n",
              "\n",
              "[214 rows x 10 columns]"
            ]
          },
          "metadata": {},
          "execution_count": 4
        }
      ]
    },
    {
      "cell_type": "code",
      "metadata": {
        "colab": {
          "base_uri": "https://localhost:8080/"
        },
        "id": "5k5p5VLa_CJi",
        "outputId": "fd0d99d4-d5b9-4001-9a90-9e5c9d81fc87"
      },
      "source": [
        "gls.info()"
      ],
      "execution_count": 5,
      "outputs": [
        {
          "output_type": "stream",
          "name": "stdout",
          "text": [
            "<class 'pandas.core.frame.DataFrame'>\n",
            "RangeIndex: 214 entries, 0 to 213\n",
            "Data columns (total 10 columns):\n",
            " #   Column  Non-Null Count  Dtype  \n",
            "---  ------  --------------  -----  \n",
            " 0   RI      214 non-null    float64\n",
            " 1   Na      214 non-null    float64\n",
            " 2   Mg      214 non-null    float64\n",
            " 3   Al      214 non-null    float64\n",
            " 4   Si      214 non-null    float64\n",
            " 5   K       214 non-null    float64\n",
            " 6   Ca      214 non-null    float64\n",
            " 7   Ba      214 non-null    float64\n",
            " 8   Fe      214 non-null    float64\n",
            " 9   Type    214 non-null    int64  \n",
            "dtypes: float64(9), int64(1)\n",
            "memory usage: 16.8 KB\n"
          ]
        }
      ]
    },
    {
      "cell_type": "code",
      "metadata": {
        "colab": {
          "base_uri": "https://localhost:8080/",
          "height": 297
        },
        "id": "dpUL8mze_ZYi",
        "outputId": "09008f7f-2328-47dc-97fb-9870f5139750"
      },
      "source": [
        "gls.describe()"
      ],
      "execution_count": 6,
      "outputs": [
        {
          "output_type": "execute_result",
          "data": {
            "text/html": [
              "<div>\n",
              "<style scoped>\n",
              "    .dataframe tbody tr th:only-of-type {\n",
              "        vertical-align: middle;\n",
              "    }\n",
              "\n",
              "    .dataframe tbody tr th {\n",
              "        vertical-align: top;\n",
              "    }\n",
              "\n",
              "    .dataframe thead th {\n",
              "        text-align: right;\n",
              "    }\n",
              "</style>\n",
              "<table border=\"1\" class=\"dataframe\">\n",
              "  <thead>\n",
              "    <tr style=\"text-align: right;\">\n",
              "      <th></th>\n",
              "      <th>RI</th>\n",
              "      <th>Na</th>\n",
              "      <th>Mg</th>\n",
              "      <th>Al</th>\n",
              "      <th>Si</th>\n",
              "      <th>K</th>\n",
              "      <th>Ca</th>\n",
              "      <th>Ba</th>\n",
              "      <th>Fe</th>\n",
              "      <th>Type</th>\n",
              "    </tr>\n",
              "  </thead>\n",
              "  <tbody>\n",
              "    <tr>\n",
              "      <th>count</th>\n",
              "      <td>214.000000</td>\n",
              "      <td>214.000000</td>\n",
              "      <td>214.000000</td>\n",
              "      <td>214.000000</td>\n",
              "      <td>214.000000</td>\n",
              "      <td>214.000000</td>\n",
              "      <td>214.000000</td>\n",
              "      <td>214.000000</td>\n",
              "      <td>214.000000</td>\n",
              "      <td>214.000000</td>\n",
              "    </tr>\n",
              "    <tr>\n",
              "      <th>mean</th>\n",
              "      <td>1.518365</td>\n",
              "      <td>13.407850</td>\n",
              "      <td>2.684533</td>\n",
              "      <td>1.444907</td>\n",
              "      <td>72.650935</td>\n",
              "      <td>0.497056</td>\n",
              "      <td>8.956963</td>\n",
              "      <td>0.175047</td>\n",
              "      <td>0.057009</td>\n",
              "      <td>2.780374</td>\n",
              "    </tr>\n",
              "    <tr>\n",
              "      <th>std</th>\n",
              "      <td>0.003037</td>\n",
              "      <td>0.816604</td>\n",
              "      <td>1.442408</td>\n",
              "      <td>0.499270</td>\n",
              "      <td>0.774546</td>\n",
              "      <td>0.652192</td>\n",
              "      <td>1.423153</td>\n",
              "      <td>0.497219</td>\n",
              "      <td>0.097439</td>\n",
              "      <td>2.103739</td>\n",
              "    </tr>\n",
              "    <tr>\n",
              "      <th>min</th>\n",
              "      <td>1.511150</td>\n",
              "      <td>10.730000</td>\n",
              "      <td>0.000000</td>\n",
              "      <td>0.290000</td>\n",
              "      <td>69.810000</td>\n",
              "      <td>0.000000</td>\n",
              "      <td>5.430000</td>\n",
              "      <td>0.000000</td>\n",
              "      <td>0.000000</td>\n",
              "      <td>1.000000</td>\n",
              "    </tr>\n",
              "    <tr>\n",
              "      <th>25%</th>\n",
              "      <td>1.516523</td>\n",
              "      <td>12.907500</td>\n",
              "      <td>2.115000</td>\n",
              "      <td>1.190000</td>\n",
              "      <td>72.280000</td>\n",
              "      <td>0.122500</td>\n",
              "      <td>8.240000</td>\n",
              "      <td>0.000000</td>\n",
              "      <td>0.000000</td>\n",
              "      <td>1.000000</td>\n",
              "    </tr>\n",
              "    <tr>\n",
              "      <th>50%</th>\n",
              "      <td>1.517680</td>\n",
              "      <td>13.300000</td>\n",
              "      <td>3.480000</td>\n",
              "      <td>1.360000</td>\n",
              "      <td>72.790000</td>\n",
              "      <td>0.555000</td>\n",
              "      <td>8.600000</td>\n",
              "      <td>0.000000</td>\n",
              "      <td>0.000000</td>\n",
              "      <td>2.000000</td>\n",
              "    </tr>\n",
              "    <tr>\n",
              "      <th>75%</th>\n",
              "      <td>1.519157</td>\n",
              "      <td>13.825000</td>\n",
              "      <td>3.600000</td>\n",
              "      <td>1.630000</td>\n",
              "      <td>73.087500</td>\n",
              "      <td>0.610000</td>\n",
              "      <td>9.172500</td>\n",
              "      <td>0.000000</td>\n",
              "      <td>0.100000</td>\n",
              "      <td>3.000000</td>\n",
              "    </tr>\n",
              "    <tr>\n",
              "      <th>max</th>\n",
              "      <td>1.533930</td>\n",
              "      <td>17.380000</td>\n",
              "      <td>4.490000</td>\n",
              "      <td>3.500000</td>\n",
              "      <td>75.410000</td>\n",
              "      <td>6.210000</td>\n",
              "      <td>16.190000</td>\n",
              "      <td>3.150000</td>\n",
              "      <td>0.510000</td>\n",
              "      <td>7.000000</td>\n",
              "    </tr>\n",
              "  </tbody>\n",
              "</table>\n",
              "</div>"
            ],
            "text/plain": [
              "               RI          Na          Mg  ...          Ba          Fe        Type\n",
              "count  214.000000  214.000000  214.000000  ...  214.000000  214.000000  214.000000\n",
              "mean     1.518365   13.407850    2.684533  ...    0.175047    0.057009    2.780374\n",
              "std      0.003037    0.816604    1.442408  ...    0.497219    0.097439    2.103739\n",
              "min      1.511150   10.730000    0.000000  ...    0.000000    0.000000    1.000000\n",
              "25%      1.516523   12.907500    2.115000  ...    0.000000    0.000000    1.000000\n",
              "50%      1.517680   13.300000    3.480000  ...    0.000000    0.000000    2.000000\n",
              "75%      1.519157   13.825000    3.600000  ...    0.000000    0.100000    3.000000\n",
              "max      1.533930   17.380000    4.490000  ...    3.150000    0.510000    7.000000\n",
              "\n",
              "[8 rows x 10 columns]"
            ]
          },
          "metadata": {},
          "execution_count": 6
        }
      ]
    },
    {
      "cell_type": "code",
      "metadata": {
        "colab": {
          "base_uri": "https://localhost:8080/",
          "height": 296
        },
        "id": "Hx1HcMw6eO2J",
        "outputId": "72670150-a9fe-4926-e948-442cf44575b0"
      },
      "source": [
        "sns.histplot(gls['Type'])"
      ],
      "execution_count": 21,
      "outputs": [
        {
          "output_type": "execute_result",
          "data": {
            "text/plain": [
              "<matplotlib.axes._subplots.AxesSubplot at 0x7f66f7900950>"
            ]
          },
          "metadata": {},
          "execution_count": 21
        },
        {
          "output_type": "display_data",
          "data": {
            "image/png": "[encoded data removed]",
            "text/plain": [
              "<Figure size 432x288 with 1 Axes>"
            ]
          },
          "metadata": {
            "needs_background": "light"
          }
        }
      ]
    },
    {
      "cell_type": "code",
      "metadata": {
        "colab": {
          "base_uri": "https://localhost:8080/",
          "height": 350
        },
        "id": "bws_ya2ceb0Y",
        "outputId": "a73fff3e-3709-4dcb-9cca-bf4ee5ab3841"
      },
      "source": [
        "sns.distplot(gls['Type'])"
      ],
      "execution_count": 22,
      "outputs": [
        {
          "output_type": "stream",
          "name": "stderr",
          "text": [
            "/usr/local/lib/python3.7/dist-packages/seaborn/distributions.py:2619: FutureWarning: `distplot` is a deprecated function and will be removed in a future version. Please adapt your code to use either `displot` (a figure-level function with similar flexibility) or `histplot` (an axes-level function for histograms).\n",
            "  warnings.warn(msg, FutureWarning)\n"
          ]
        },
        {
          "output_type": "execute_result",
          "data": {
            "text/plain": [
              "<matplotlib.axes._subplots.AxesSubplot at 0x7f66f7565fd0>"
            ]
          },
          "metadata": {},
          "execution_count": 22
        },
        {
          "output_type": "display_data",
          "data": {
            "image/png": "[encoded data removed]",
            "text/plain": [
              "<Figure size 432x288 with 1 Axes>"
            ]
          },
          "metadata": {
            "needs_background": "light"
          }
        }
      ]
    },
    {
      "cell_type": "code",
      "metadata": {
        "id": "1SMZTJOj_c6y"
      },
      "source": [
        "array=gls.values\n",
        "X=array[:,0:-1]\n",
        "Y=array[:,9]"
      ],
      "execution_count": 8,
      "outputs": []
    },
    {
      "cell_type": "code",
      "metadata": {
        "colab": {
          "base_uri": "https://localhost:8080/"
        },
        "id": "KXkC1tdZYGK2",
        "outputId": "ac3f4f60-de8b-4d7d-a631-f6f0b3bddf6a"
      },
      "source": [
        "X"
      ],
      "execution_count": 9,
      "outputs": [
        {
          "output_type": "execute_result",
          "data": {
            "text/plain": [
              "array([[ 1.52101, 13.64   ,  4.49   , ...,  8.75   ,  0.     ,  0.     ],\n",
              "       [ 1.51761, 13.89   ,  3.6    , ...,  7.83   ,  0.     ,  0.     ],\n",
              "       [ 1.51618, 13.53   ,  3.55   , ...,  7.78   ,  0.     ,  0.     ],\n",
              "       ...,\n",
              "       [ 1.52065, 14.36   ,  0.     , ...,  8.44   ,  1.64   ,  0.     ],\n",
              "       [ 1.51651, 14.38   ,  0.     , ...,  8.48   ,  1.57   ,  0.     ],\n",
              "       [ 1.51711, 14.23   ,  0.     , ...,  8.62   ,  1.67   ,  0.     ]])"
            ]
          },
          "metadata": {},
          "execution_count": 9
        }
      ]
    },
    {
      "cell_type": "code",
      "metadata": {
        "colab": {
          "base_uri": "https://localhost:8080/"
        },
        "id": "4WVYgosUYKwQ",
        "outputId": "0c36a19e-2697-4c33-a4f1-c5a6257064e5"
      },
      "source": [
        "Y"
      ],
      "execution_count": 10,
      "outputs": [
        {
          "output_type": "execute_result",
          "data": {
            "text/plain": [
              "array([1., 1., 1., 1., 1., 1., 1., 1., 1., 1., 1., 1., 1., 1., 1., 1., 1.,\n",
              "       1., 1., 1., 1., 1., 1., 1., 1., 1., 1., 1., 1., 1., 1., 1., 1., 1.,\n",
              "       1., 1., 1., 1., 1., 1., 1., 1., 1., 1., 1., 1., 1., 1., 1., 1., 1.,\n",
              "       1., 1., 1., 1., 1., 1., 1., 1., 1., 1., 1., 1., 1., 1., 1., 1., 1.,\n",
              "       1., 1., 2., 2., 2., 2., 2., 2., 2., 2., 2., 2., 2., 2., 2., 2., 2.,\n",
              "       2., 2., 2., 2., 2., 2., 2., 2., 2., 2., 2., 2., 2., 2., 2., 2., 2.,\n",
              "       2., 2., 2., 2., 2., 2., 2., 2., 2., 2., 2., 2., 2., 2., 2., 2., 2.,\n",
              "       2., 2., 2., 2., 2., 2., 2., 2., 2., 2., 2., 2., 2., 2., 2., 2., 2.,\n",
              "       2., 2., 2., 2., 2., 2., 2., 2., 2., 2., 3., 3., 3., 3., 3., 3., 3.,\n",
              "       3., 3., 3., 3., 3., 3., 3., 3., 3., 3., 5., 5., 5., 5., 5., 5., 5.,\n",
              "       5., 5., 5., 5., 5., 5., 6., 6., 6., 6., 6., 6., 6., 6., 6., 7., 7.,\n",
              "       7., 7., 7., 7., 7., 7., 7., 7., 7., 7., 7., 7., 7., 7., 7., 7., 7.,\n",
              "       7., 7., 7., 7., 7., 7., 7., 7., 7., 7.])"
            ]
          },
          "metadata": {},
          "execution_count": 10
        }
      ]
    },
    {
      "cell_type": "code",
      "metadata": {
        "id": "Q7LnTxXOZ8ae"
      },
      "source": [
        "from sklearn.model_selection import GridSearchCV\n",
        "import numpy"
      ],
      "execution_count": 11,
      "outputs": []
    },
    {
      "cell_type": "code",
      "metadata": {
        "id": "WUOeJwLyaDOc"
      },
      "source": [
        "n_neighbors = numpy.array(range(1,40))\n",
        "param_grid = dict(n_neighbors=n_neighbors)"
      ],
      "execution_count": 12,
      "outputs": []
    },
    {
      "cell_type": "code",
      "metadata": {
        "colab": {
          "base_uri": "https://localhost:8080/"
        },
        "id": "_ACRi_KYaHAz",
        "outputId": "7040925c-ea2e-426e-ae5a-cbd28b3d818d"
      },
      "source": [
        "model=KNeighborsClassifier()\n",
        "grid = GridSearchCV(estimator=model, param_grid=param_grid)\n",
        "grid.fit(X,Y)"
      ],
      "execution_count": 13,
      "outputs": [
        {
          "output_type": "execute_result",
          "data": {
            "text/plain": [
              "GridSearchCV(cv=None, error_score=nan,\n",
              "             estimator=KNeighborsClassifier(algorithm='auto', leaf_size=30,\n",
              "                                            metric='minkowski',\n",
              "                                            metric_params=None, n_jobs=None,\n",
              "                                            n_neighbors=5, p=2,\n",
              "                                            weights='uniform'),\n",
              "             iid='deprecated', n_jobs=None,\n",
              "             param_grid={'n_neighbors': array([ 1,  2,  3,  4,  5,  6,  7,  8,  9, 10, 11, 12, 13, 14, 15, 16, 17,\n",
              "       18, 19, 20, 21, 22, 23, 24, 25, 26, 27, 28, 29, 30, 31, 32, 33, 34,\n",
              "       35, 36, 37, 38, 39])},\n",
              "             pre_dispatch='2*n_jobs', refit=True, return_train_score=False,\n",
              "             scoring=None, verbose=0)"
            ]
          },
          "metadata": {},
          "execution_count": 13
        }
      ]
    },
    {
      "cell_type": "code",
      "metadata": {
        "colab": {
          "base_uri": "https://localhost:8080/"
        },
        "id": "HzDfhJxkbHUp",
        "outputId": "e4ebeffb-8225-4ed4-fd6d-5c7e47b7d6d9"
      },
      "source": [
        "print(grid.best_score_)\n",
        "print(grid.best_params_)#so for the KNN classification of this Dataset the n_neighbors=1 parameter seems accurate."
      ],
      "execution_count": 14,
      "outputs": [
        {
          "output_type": "stream",
          "name": "stdout",
          "text": [
            "0.640531561461794\n",
            "{'n_neighbors': 1}\n"
          ]
        }
      ]
    },
    {
      "cell_type": "code",
      "metadata": {
        "colab": {
          "base_uri": "https://localhost:8080/",
          "height": 279
        },
        "id": "R99X_Aa8bNlJ",
        "outputId": "8e26f2c9-9679-4009-b646-e702db2842db"
      },
      "source": [
        "import matplotlib.pyplot as plt \n",
        "%matplotlib inline\n",
        "# choose k between 1 to 41\n",
        "k_range = range(1, 41)\n",
        "k_scores = []\n",
        "# use iteration to caclulator different k in models, then return the average accuracy based on the cross validation\n",
        "for k in k_range:\n",
        "    knn = KNeighborsClassifier(n_neighbors=k)\n",
        "    scores = cross_val_score(knn, X, Y, cv=5)\n",
        "    k_scores.append(scores.mean())\n",
        "# plot to see clearly\n",
        "plt.plot(k_range, k_scores)\n",
        "plt.xlabel('Value of K for KNN')\n",
        "plt.ylabel('Cross-Validated Accuracy')\n",
        "plt.show()"
      ],
      "execution_count": 15,
      "outputs": [
        {
          "output_type": "display_data",
          "data": {
            "image/png": "[encoded data removed]",
            "text/plain": [
              "<Figure size 432x288 with 1 Axes>"
            ]
          },
          "metadata": {
            "needs_background": "light"
          }
        }
      ]
    },
    {
      "cell_type": "code",
      "metadata": {
        "id": "hXogvpqJbUsa"
      },
      "source": [
        "num_folds = 10\n",
        "kfold = KFold(n_splits=10)"
      ],
      "execution_count": 16,
      "outputs": []
    },
    {
      "cell_type": "code",
      "metadata": {
        "id": "i6ierzOwdwrN"
      },
      "source": [
        "mod = KNeighborsClassifier(n_neighbors=1)\n",
        "results = cross_val_score(mod, X, Y, cv=kfold)"
      ],
      "execution_count": 17,
      "outputs": []
    },
    {
      "cell_type": "code",
      "metadata": {
        "colab": {
          "base_uri": "https://localhost:8080/"
        },
        "id": "3dI1gJHXd8Ax",
        "outputId": "892b9d95-b5c9-47db-aad0-7c10fe861608"
      },
      "source": [
        "print(results.mean())"
      ],
      "execution_count": 18,
      "outputs": [
        {
          "output_type": "stream",
          "name": "stdout",
          "text": [
            "0.5599567099567099\n"
          ]
        }
      ]
    },
    {
      "cell_type": "code",
      "metadata": {
        "id": "rGu14o53fREq"
      },
      "source": [
        "from sklearn.model_selection import train_test_split"
      ],
      "execution_count": 23,
      "outputs": []
    },
    {
      "cell_type": "code",
      "metadata": {
        "id": "dLZxwYgwfdwk"
      },
      "source": [
        "X_train,X_test,y_train,y_test =train_test_split(X,Y,test_size =0.3,random_state =10)"
      ],
      "execution_count": 24,
      "outputs": []
    },
    {
      "cell_type": "code",
      "metadata": {
        "id": "2ZiMhVYFfWkV"
      },
      "source": [
        "knn =KNeighborsClassifier(n_neighbors=1)\n",
        "knn.fit(X_train,y_train)\n",
        "y_pred=knn.predict(X_test)"
      ],
      "execution_count": 25,
      "outputs": []
    },
    {
      "cell_type": "code",
      "metadata": {
        "id": "as3YbNUXfkkd"
      },
      "source": [
        "from sklearn.metrics import  accuracy_score,confusion_matrix,recall_score,precision_score"
      ],
      "execution_count": 26,
      "outputs": []
    },
    {
      "cell_type": "code",
      "metadata": {
        "colab": {
          "base_uri": "https://localhost:8080/"
        },
        "id": "uWOlJRLjfy5j",
        "outputId": "c0bc7e08-4244-41fb-cc24-d00bd80ef740"
      },
      "source": [
        "\n",
        "accuracy =accuracy_score(y_test,y_pred)\n",
        "accuracy"
      ],
      "execution_count": 27,
      "outputs": [
        {
          "output_type": "execute_result",
          "data": {
            "text/plain": [
              "0.6307692307692307"
            ]
          },
          "metadata": {},
          "execution_count": 27
        }
      ]
    },
    {
      "cell_type": "code",
      "metadata": {
        "colab": {
          "base_uri": "https://localhost:8080/"
        },
        "id": "PkI06qevf3eD",
        "outputId": "6ddb4dcb-b998-4605-cfcc-26a66a2d26c7"
      },
      "source": [
        "confusion_matrix(y_pred,y_test)"
      ],
      "execution_count": 28,
      "outputs": [
        {
          "output_type": "execute_result",
          "data": {
            "text/plain": [
              "array([[13,  1,  2,  0,  0,  0],\n",
              "       [ 7, 12,  0,  0,  1,  0],\n",
              "       [ 5,  1,  5,  0,  0,  1],\n",
              "       [ 0,  1,  0,  4,  1,  0],\n",
              "       [ 0,  2,  0,  0,  0,  0],\n",
              "       [ 0,  0,  0,  0,  2,  7]])"
            ]
          },
          "metadata": {},
          "execution_count": 28
        }
      ]
    }
  ]
}